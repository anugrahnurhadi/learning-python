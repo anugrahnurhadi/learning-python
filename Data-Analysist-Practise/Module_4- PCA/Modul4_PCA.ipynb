{
 "cells": [
  {
   "cell_type": "markdown",
   "metadata": {},
   "source": [
    "# MODUL 4"
   ]
  },
  {
   "cell_type": "markdown",
   "metadata": {},
   "source": [
    "\n",
    "# Principal Component Analysis (PCA)\n"
   ]
  },
  {
   "cell_type": "markdown",
   "metadata": {},
   "source": [
    "### Lilik Bayyinah 12813031"
   ]
  },
  {
   "cell_type": "markdown",
   "metadata": {},
   "source": [
    "## Langkah Kerja PCA dengan menggunakan data SST Pasifik"
   ]
  },
  {
   "cell_type": "code",
   "execution_count": null,
   "metadata": {
    "collapsed": false
   },
   "outputs": [],
   "source": [
    "import pandas as pd\n",
    "import numpy as np\n",
    "from numpy import ma\n",
    "from matplotlib import pyplot as plt\n",
    "from scipy import stats\n",
    "import warnings\n",
    "warnings.simplefilter('ignore')\n",
    "from pylab import*"
   ]
  },
  {
   "cell_type": "code",
   "execution_count": null,
   "metadata": {
    "collapsed": false
   },
   "outputs": [],
   "source": [
    "#Dimensi data\n",
    "nx=86\n",
    "ny=41\n",
    "nt=192\n",
    "lon=120,2,nx*2+120-2;\n",
    "lat=-40,2,ny*2-40-2;\n",
    "yr=1975,1990;"
   ]
  },
  {
   "cell_type": "markdown",
   "metadata": {},
   "source": [
    "### load data/membaca data spatio temporal"
   ]
  },
  {
   "cell_type": "code",
   "execution_count": null,
   "metadata": {
    "collapsed": false
   },
   "outputs": [],
   "source": [
    "dset = np.fromfile('pasifik1.dat', dtype=np.float32)\n",
    "dset.shape"
   ]
  },
  {
   "cell_type": "code",
   "execution_count": null,
   "metadata": {
    "collapsed": false
   },
   "outputs": [],
   "source": [
    "#merubah data menjadi data 3 dimensi\n",
    "data=np.reshape(dset, (nt,ny, nx))\n",
    "data.shape"
   ]
  },
  {
   "cell_type": "code",
   "execution_count": null,
   "metadata": {
    "collapsed": false,
    "scrolled": true
   },
   "outputs": [],
   "source": [
    "#reshape in 2D (time, space)\n",
    "\n",
    "X = np.reshape(data, (nt, nx*ny))\n",
    "X.shape\n",
    "X"
   ]
  },
  {
   "cell_type": "code",
   "execution_count": null,
   "metadata": {
    "collapsed": false
   },
   "outputs": [],
   "source": [
    "w"
   ]
  },
  {
   "cell_type": "markdown",
   "metadata": {},
   "source": [
    "##### Membuang data NaN"
   ]
  },
  {
   "cell_type": "code",
   "execution_count": null,
   "metadata": {
    "collapsed": false
   },
   "outputs": [],
   "source": [
    "id=X1[25,:]\n",
    "tes=find(isnan(id))\n",
    "tes2=list(tes)\n"
   ]
  },
  {
   "cell_type": "code",
   "execution_count": null,
   "metadata": {
    "collapsed": false
   },
   "outputs": [],
   "source": [
    "XX=np.delete(X1,tes2,1)"
   ]
  },
  {
   "cell_type": "code",
   "execution_count": null,
   "metadata": {
    "collapsed": false
   },
   "outputs": [],
   "source": [
    "np.any(np.isnan(XX)) #cek masih ada data nan atau tidak"
   ]
  },
  {
   "cell_type": "markdown",
   "metadata": {},
   "source": [
    "##### Standarisasi menggunakan fit dan transform"
   ]
  },
  {
   "cell_type": "code",
   "execution_count": null,
   "metadata": {
    "collapsed": true
   },
   "outputs": [],
   "source": [
    "from sklearn import preprocessing\n",
    "scaler  = preprocessing.StandardScaler()"
   ]
  },
  {
   "cell_type": "code",
   "execution_count": null,
   "metadata": {
    "collapsed": true
   },
   "outputs": [],
   "source": [
    "scaler_sst = scaler.fit(XX)"
   ]
  },
  {
   "cell_type": "code",
   "execution_count": null,
   "metadata": {
    "collapsed": true
   },
   "outputs": [],
   "source": [
    "XX = scaler_sst.transform(XX)"
   ]
  },
  {
   "cell_type": "code",
   "execution_count": null,
   "metadata": {
    "collapsed": false
   },
   "outputs": [],
   "source": [
    "XX.mean()"
   ]
  },
  {
   "cell_type": "code",
   "execution_count": null,
   "metadata": {
    "collapsed": false
   },
   "outputs": [],
   "source": [
    "XX.std()"
   ]
  },
  {
   "cell_type": "code",
   "execution_count": null,
   "metadata": {
    "collapsed": true
   },
   "outputs": [],
   "source": [
    "#PCA\n",
    "\n",
    "from numpy import mean,cov,double,cumsum,dot,linalg,array,rank\n",
    "from pylab import plot,subplot,axis,stem,show,figure\n",
    "\n",
    "def princomp(A):\n",
    " \"\"\" performs principal components analysis \n",
    "     (PCA) on the n-by-p data matrix A\n",
    "     Rows of A correspond to observations, columns to variables. \n",
    "\n",
    " Returns :  \n",
    "  coeff :\n",
    "    is a p-by-p matrix, each column containing coefficients \n",
    "    for one principal component.\n",
    "  score : \n",
    "    the principal component scores; that is, the representation \n",
    "    of A in the principal component space. Rows of SCORE \n",
    "    correspond to observations, columns to components.\n",
    "  latent : \n",
    "    a vector containing the eigenvalues \n",
    "    of the covariance matrix of A.\n",
    " \"\"\"\n",
    " # computing eigenvalues and eigenvectors of covariance matrix\n",
    " M = (A-mean(A.T,axis=1)).T # subtract the mean (along columns)\n",
    " [latent,coeff] = linalg.eig(cov(M)) # attention:not always sorted\n",
    " score = dot(coeff.T,M) # projection of the data in the new space\n",
    " return coeff,score,latent"
   ]
  },
  {
   "cell_type": "code",
   "execution_count": null,
   "metadata": {
    "collapsed": false
   },
   "outputs": [],
   "source": [
    "#PCA menggunakan fungsi princomp\n",
    "eofs, score, latent=princomp(XX.T)"
   ]
  },
  {
   "cell_type": "code",
   "execution_count": null,
   "metadata": {
    "collapsed": true
   },
   "outputs": [],
   "source": [
    "#scaling nilai eigen\n",
    "latent=latent/sum(latent)*100;"
   ]
  },
  {
   "cell_type": "code",
   "execution_count": null,
   "metadata": {
    "collapsed": false
   },
   "outputs": [],
   "source": [
    "fig, ax = plt.subplots(figsize=(5,5))\n",
    "ax.plot(latent)\n",
    "ax.plot(latent,'ro')\n",
    "ax.set_title(\"% of variance explained\", fontsize=14)\n",
    "ax.grid()\n",
    "ax.set_xlim([-1,20])\n",
    "ax.set_ylim([-3,100])\n",
    "fig"
   ]
  },
  {
   "cell_type": "code",
   "execution_count": null,
   "metadata": {
    "collapsed": true
   },
   "outputs": [],
   "source": [
    "# Gambar\n",
    "i=1  #indeks pc yang digambar\n",
    "pc=id"
   ]
  },
  {
   "cell_type": "code",
   "execution_count": null,
   "metadata": {
    "collapsed": false
   },
   "outputs": [],
   "source": [
    "#non rotated pc\n",
    "#pc[~isnan(pc)]=eofs[:,i]\n",
    "sc=score[:,i]"
   ]
  },
  {
   "cell_type": "code",
   "execution_count": null,
   "metadata": {
    "collapsed": false
   },
   "outputs": [],
   "source": [
    "pc.shape"
   ]
  },
  {
   "cell_type": "code",
   "execution_count": null,
   "metadata": {
    "collapsed": false
   },
   "outputs": [],
   "source": [
    "fig, ax = plt.subplots(figsize=(5,5))\n",
    "ax.plot(sc)\n",
    "ax.set_title(\"eigenvalue\", fontsize=14)\n",
    "ax.grid()\n",
    "ax.set_ylim([-1, 1])\n",
    "ax.set_xlim([-1, 100])\n",
    "fig"
   ]
  },
  {
   "cell_type": "code",
   "execution_count": null,
   "metadata": {
    "collapsed": true
   },
   "outputs": [],
   "source": []
  }
 ],
 "metadata": {
  "anaconda-cloud": {},
  "kernelspec": {
   "display_name": "Python [default]",
   "language": "python",
   "name": "python3"
  },
  "language_info": {
   "codemirror_mode": {
    "name": "ipython",
    "version": 3
   },
   "file_extension": ".py",
   "mimetype": "text/x-python",
   "name": "python",
   "nbconvert_exporter": "python",
   "pygments_lexer": "ipython3",
   "version": "3.5.2"
  }
 },
 "nbformat": 4,
 "nbformat_minor": 1
}
